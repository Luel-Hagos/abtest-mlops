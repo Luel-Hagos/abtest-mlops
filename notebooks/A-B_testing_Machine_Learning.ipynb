{
 "cells": [
  {
   "cell_type": "markdown",
   "id": "9b97c9dd",
   "metadata": {},
   "source": [
    "## Imports"
   ]
  },
  {
   "cell_type": "code",
   "execution_count": 37,
   "id": "fef61fd9",
   "metadata": {},
   "outputs": [],
   "source": [
    "%matplotlib inline\n",
    "import warnings\n",
    "warnings.filterwarnings('ignore')\n",
    "import numpy as np\n",
    "import pandas as pd\n",
    "import matplotlib.pyplot as plt\n",
    "import seaborn as sns\n",
    "import mlflow\n",
    "import sklearn\n",
    "from sklearn import preprocessing\n",
    "from sklearn.preprocessing import MinMaxScaler\n",
    "from sklearn.model_selection import train_test_split"
   ]
  },
  {
   "cell_type": "markdown",
   "id": "517bc8df",
   "metadata": {},
   "source": [
    "## load data"
   ]
  },
  {
   "cell_type": "code",
   "execution_count": 2,
   "id": "e4f893b6",
   "metadata": {},
   "outputs": [],
   "source": [
    "data=pd.read_csv('../data/AdSmartABdata.csv')"
   ]
  },
  {
   "cell_type": "markdown",
   "id": "79a8d2ac",
   "metadata": {},
   "source": [
    "## Data visualization"
   ]
  },
  {
   "cell_type": "markdown",
   "id": "eb570323",
   "metadata": {},
   "source": [
    "data.head(5)"
   ]
  },
  {
   "cell_type": "code",
   "execution_count": 3,
   "id": "7dc1d8cb",
   "metadata": {},
   "outputs": [
    {
     "name": "stdout",
     "output_type": "stream",
     "text": [
      "auction_id : 8077 labels.\n",
      "experiment : 2 labels.\n",
      "date : 8 labels.\n",
      "hour : 24 labels.\n",
      "device_make : 270 labels.\n",
      "platform_os : 3 labels.\n",
      "browser : 15 labels.\n",
      "yes : 2 labels.\n",
      "no : 2 labels.\n"
     ]
    }
   ],
   "source": [
    "# number of unique values for aech column\n",
    "for col in data.columns: print(col,':', data[col].nunique(), 'labels.')"
   ]
  },
  {
   "cell_type": "markdown",
   "id": "6478c7b2",
   "metadata": {},
   "source": [
    "### Feature engineering"
   ]
  },
  {
   "cell_type": "code",
   "execution_count": 9,
   "id": "37ab1763",
   "metadata": {},
   "outputs": [],
   "source": [
    "data['clicked'] = data['yes']+data['no']\n",
    "data = data[data['clicked'] == 1]"
   ]
  },
  {
   "cell_type": "code",
   "execution_count": 5,
   "id": "56d8f14c",
   "metadata": {},
   "outputs": [],
   "source": [
    "c_data = data[['experiment','date', 'hour', 'device_make', 'platform_os', 'yes']]"
   ]
  },
  {
   "cell_type": "code",
   "execution_count": 6,
   "id": "97543e34",
   "metadata": {},
   "outputs": [
    {
     "data": {
      "text/plain": [
       "((1243, 5), (1243, 1))"
      ]
     },
     "execution_count": 6,
     "metadata": {},
     "output_type": "execute_result"
    }
   ],
   "source": [
    "x = c_data[['experiment','date', 'hour', 'device_make', 'platform_os']]\n",
    "y = c_data[['yes']].values\n",
    "x.shape, y.shape"
   ]
  },
  {
   "cell_type": "code",
   "execution_count": 7,
   "id": "f6e0630b",
   "metadata": {},
   "outputs": [
    {
     "data": {
      "text/html": [
       "<div>\n",
       "<style scoped>\n",
       "    .dataframe tbody tr th:only-of-type {\n",
       "        vertical-align: middle;\n",
       "    }\n",
       "\n",
       "    .dataframe tbody tr th {\n",
       "        vertical-align: top;\n",
       "    }\n",
       "\n",
       "    .dataframe thead th {\n",
       "        text-align: right;\n",
       "    }\n",
       "</style>\n",
       "<table border=\"1\" class=\"dataframe\">\n",
       "  <thead>\n",
       "    <tr style=\"text-align: right;\">\n",
       "      <th></th>\n",
       "      <th>experiment</th>\n",
       "      <th>date</th>\n",
       "      <th>hour</th>\n",
       "      <th>device_make</th>\n",
       "      <th>platform_os</th>\n",
       "    </tr>\n",
       "  </thead>\n",
       "  <tbody>\n",
       "    <tr>\n",
       "      <th>6431</th>\n",
       "      <td>1</td>\n",
       "      <td>5</td>\n",
       "      <td>16</td>\n",
       "      <td>69</td>\n",
       "      <td>6</td>\n",
       "    </tr>\n",
       "    <tr>\n",
       "      <th>5738</th>\n",
       "      <td>1</td>\n",
       "      <td>2</td>\n",
       "      <td>12</td>\n",
       "      <td>68</td>\n",
       "      <td>6</td>\n",
       "    </tr>\n",
       "    <tr>\n",
       "      <th>16</th>\n",
       "      <td>1</td>\n",
       "      <td>1</td>\n",
       "      <td>16</td>\n",
       "      <td>13</td>\n",
       "      <td>6</td>\n",
       "    </tr>\n",
       "    <tr>\n",
       "      <th>7742</th>\n",
       "      <td>1</td>\n",
       "      <td>7</td>\n",
       "      <td>3</td>\n",
       "      <td>13</td>\n",
       "      <td>6</td>\n",
       "    </tr>\n",
       "    <tr>\n",
       "      <th>7856</th>\n",
       "      <td>0</td>\n",
       "      <td>4</td>\n",
       "      <td>17</td>\n",
       "      <td>114</td>\n",
       "      <td>5</td>\n",
       "    </tr>\n",
       "  </tbody>\n",
       "</table>\n",
       "</div>"
      ],
      "text/plain": [
       "      experiment  date  hour  device_make  platform_os\n",
       "6431           1     5    16           69            6\n",
       "5738           1     2    12           68            6\n",
       "16             1     1    16           13            6\n",
       "7742           1     7     3           13            6\n",
       "7856           0     4    17          114            5"
      ]
     },
     "execution_count": 7,
     "metadata": {},
     "output_type": "execute_result"
    }
   ],
   "source": [
    "pro = preprocessing.LabelEncoder()\n",
    "x['experiment'] = pro.fit_transform(x['experiment'])\n",
    "x['device_make'] = pro.fit_transform(x['device_make'])\n",
    "x['date'] = pro.fit_transform(x['date'])\n",
    "x.sample(5)"
   ]
  },
  {
   "cell_type": "markdown",
   "id": "e8dd1660",
   "metadata": {},
   "source": [
    "## Scaling and Normalization"
   ]
  },
  {
   "cell_type": "code",
   "execution_count": 8,
   "id": "7f3a2dc6",
   "metadata": {},
   "outputs": [
    {
     "data": {
      "text/plain": [
       "array([[1.        , 0.28571429, 0.08695652, 0.03508772, 1.        ],\n",
       "       [1.        , 0.14285714, 0.69565217, 0.11403509, 1.        ],\n",
       "       [1.        , 0.42857143, 0.34782609, 0.11403509, 1.        ],\n",
       "       ...,\n",
       "       [0.        , 0.85714286, 0.30434783, 0.11403509, 1.        ],\n",
       "       [0.        , 1.        , 0.69565217, 0.11403509, 1.        ],\n",
       "       [1.        , 0.        , 0.17391304, 0.11403509, 1.        ]])"
      ]
     },
     "execution_count": 8,
     "metadata": {},
     "output_type": "execute_result"
    }
   ],
   "source": [
    "#standardize the data so that exaggerated values don't affect our model(logistic regression)\n",
    "scaler = MinMaxScaler()\n",
    "X = scaler.fit_transform(x)\n",
    "X"
   ]
  },
  {
   "cell_type": "markdown",
   "id": "35daa308",
   "metadata": {},
   "source": [
    "## Splitting data"
   ]
  },
  {
   "cell_type": "code",
   "execution_count": 12,
   "id": "ca3d4983",
   "metadata": {},
   "outputs": [],
   "source": [
    "#split data into training, validation and test data\n",
    "X_train, X_test, y_train, y_test = train_test_split(X, y, test_size=0.3, random_state=25)\n",
    "X_test, X_val, y_test, y_val = train_test_split(X_test, y_test, test_size=0.33, random_state=25)"
   ]
  },
  {
   "cell_type": "markdown",
   "id": "04731d49",
   "metadata": {},
   "source": [
    "## Modeling"
   ]
  },
  {
   "cell_type": "code",
   "execution_count": 25,
   "id": "f41ea225",
   "metadata": {},
   "outputs": [
    {
     "name": "stdout",
     "output_type": "stream",
     "text": [
      "Collecting xgboost\n",
      "  Downloading xgboost-1.4.2-py3-none-manylinux2010_x86_64.whl (166.7 MB)\n",
      "\u001b[K     |████████████████████████████████| 166.7 MB 67 kB/s eta 0:00:0121\n",
      "\u001b[?25hRequirement already satisfied: numpy in /home/doit/anaconda3/lib/python3.8/site-packages (from xgboost) (1.20.1)\n",
      "Requirement already satisfied: scipy in /home/doit/anaconda3/lib/python3.8/site-packages (from xgboost) (1.6.2)\n",
      "Installing collected packages: xgboost\n",
      "Successfully installed xgboost-1.4.2\n"
     ]
    }
   ],
   "source": [
    "!pip install xgboost"
   ]
  },
  {
   "cell_type": "code",
   "execution_count": 60,
   "id": "9c880915",
   "metadata": {},
   "outputs": [],
   "source": [
    "#Import modeling algorithms\n",
    "from sklearn.linear_model import LogisticRegression\n",
    "from sklearn.tree import DecisionTreeClassifier\n",
    "import xgboost as xgb\n",
    "from sklearn.ensemble import GradientBoostingClassifier"
   ]
  },
  {
   "cell_type": "code",
   "execution_count": 75,
   "id": "2d8ec9db",
   "metadata": {},
   "outputs": [],
   "source": [
    "#import cross_validation library\n",
    "from sklearn.model_selection import KFold\n",
    "from sklearn.model_selection import cross_val_score\n",
    "k_fold = KFold(n_splits=5)"
   ]
  },
  {
   "cell_type": "markdown",
   "id": "a42bf398",
   "metadata": {},
   "source": [
    "### Logistic Regression"
   ]
  },
  {
   "cell_type": "code",
   "execution_count": 17,
   "id": "92c39655",
   "metadata": {},
   "outputs": [
    {
     "name": "stdout",
     "output_type": "stream",
     "text": [
      "0.5180722891566265\n"
     ]
    }
   ],
   "source": [
    "#train logistic regression model\n",
    "logistic_reg = LogisticRegression().fit(X_train, y_train)\n",
    "log_score = logistic_reg.score(X_test, y_test)\n",
    "print(log_score)"
   ]
  },
  {
   "cell_type": "code",
   "execution_count": 41,
   "id": "c85714e2",
   "metadata": {},
   "outputs": [
    {
     "name": "stdout",
     "output_type": "stream",
     "text": [
      "loss: 0.7013916945763125\n"
     ]
    }
   ],
   "source": [
    "#import log_loss\n",
    "from sklearn.metrics import log_loss\n",
    "model = logistic_reg\n",
    "# predict probabilities\n",
    "probs = model.predict_proba(X_val)\n",
    "# keep the predictions for class 1 only\n",
    "probs = probs[:, 1]\n",
    "# calculate log loss using validation data\n",
    "loss = log_loss(y_val, probs)\n",
    "print(f'loss: {loss}')"
   ]
  },
  {
   "cell_type": "code",
   "execution_count": 43,
   "id": "86bc63c4",
   "metadata": {},
   "outputs": [
    {
     "data": {
      "image/png": "[encoded data removed]",
      "text/plain": [
       "<Figure size 432x288 with 1 Axes>"
      ]
     },
     "metadata": {
      "needs_background": "light"
     },
     "output_type": "display_data"
    }
   ],
   "source": [
    "from sklearn import metrics\n",
    "y_pred_proba = logistic_reg.predict_proba(X_val)[::,1]\n",
    "fpr, tpr, _ = metrics.roc_curve(y_val,  y_pred_proba)\n",
    "auc = metrics.roc_auc_score(y_val, y_pred_proba)\n",
    "plt.plot(fpr,tpr,label=\"data 1, auc=\"+str(auc))\n",
    "plt.legend(loc=4)\n",
    "plt.show()"
   ]
  },
  {
   "cell_type": "code",
   "execution_count": 23,
   "id": "bed86b58",
   "metadata": {},
   "outputs": [
    {
     "data": {
      "image/png": "[encoded data removed]",
      "text/plain": [
       "<Figure size 720x720 with 2 Axes>"
      ]
     },
     "metadata": {
      "needs_background": "light"
     },
     "output_type": "display_data"
    }
   ],
   "source": [
    "#correlation among the features\n",
    "corrmat = data.corr()\n",
    "top_corr_features = corrmat.index\n",
    "plt.figure(figsize=(10,10))\n",
    "g = sns.heatmap(data[top_corr_features].corr(), annot= True) #plot heat map"
   ]
  },
  {
   "cell_type": "code",
   "execution_count": 20,
   "id": "0712d869",
   "metadata": {},
   "outputs": [
    {
     "data": {
      "image/png": "[encoded data removed]",
      "text/plain": [
       "<Figure size 864x504 with 1 Axes>"
      ]
     },
     "metadata": {
      "needs_background": "light"
     },
     "output_type": "display_data"
    }
   ],
   "source": [
    "#ploting\n",
    "plt.figure(figsize=(12,7))\n",
    "sns.barplot(x.columns, logistic_reg.coef_[0])\n",
    "plt.show()"
   ]
  },
  {
   "cell_type": "markdown",
   "id": "36c6e624",
   "metadata": {},
   "source": [
    "### Decision Trees"
   ]
  },
  {
   "cell_type": "code",
   "execution_count": 49,
   "id": "dcb8ae63",
   "metadata": {},
   "outputs": [
    {
     "name": "stdout",
     "output_type": "stream",
     "text": [
      "0.8390804597701149\n"
     ]
    }
   ],
   "source": [
    "#train decision tree model\n",
    "dt = DecisionTreeClassifier()\n",
    "dt.fit(X_train, y_train)\n",
    "dt_Score = dtree.score(X_train, y_train)\n",
    "print(dt_Score)"
   ]
  },
  {
   "cell_type": "code",
   "execution_count": 51,
   "id": "c5125b66",
   "metadata": {},
   "outputs": [
    {
     "data": {
      "text/plain": [
       "12.044930179805037"
      ]
     },
     "execution_count": 51,
     "metadata": {},
     "output_type": "execute_result"
    }
   ],
   "source": [
    "model = dt\n",
    "# predict probabilities\n",
    "probs = model.predict_proba(X_test)\n",
    "# keep the predictions for class 1 only\n",
    "probs = probs[:, 1]\n",
    "# calculate log loss\n",
    "loss = log_loss(y_test, probs)\n",
    "loss"
   ]
  },
  {
   "cell_type": "code",
   "execution_count": 52,
   "id": "cb9726cf",
   "metadata": {},
   "outputs": [
    {
     "data": {
      "image/png": "[encoded data removed]",
      "text/plain": [
       "<Figure size 432x288 with 1 Axes>"
      ]
     },
     "metadata": {
      "needs_background": "light"
     },
     "output_type": "display_data"
    }
   ],
   "source": [
    "y_pred_proba = dt.predict_proba(X_test)[::,1]\n",
    "fpr, tpr, _ = metrics.roc_curve(y_test,  y_pred_proba)\n",
    "auc = metrics.roc_auc_score(y_test, y_pred_proba)\n",
    "plt.plot(fpr,tpr,label=\"data 1, auc=\"+str(auc))\n",
    "plt.legend(loc=4)\n",
    "plt.show()"
   ]
  },
  {
   "cell_type": "code",
   "execution_count": 53,
   "id": "caad2f85",
   "metadata": {},
   "outputs": [
    {
     "data": {
      "image/png": "[encoded data removed]",
      "text/plain": [
       "<Figure size 864x504 with 1 Axes>"
      ]
     },
     "metadata": {
      "needs_background": "light"
     },
     "output_type": "display_data"
    }
   ],
   "source": [
    "plt.figure(figsize=(12,7))\n",
    "sns.barplot(x.columns, dtree.feature_importances_)\n",
    "plt.show()"
   ]
  },
  {
   "cell_type": "markdown",
   "id": "c37706d2",
   "metadata": {},
   "source": [
    "### XGBoost Classifier"
   ]
  },
  {
   "cell_type": "code",
   "execution_count": 64,
   "id": "ad5ba772",
   "metadata": {},
   "outputs": [
    {
     "data": {
      "text/plain": [
       "0.5180722891566265"
      ]
     },
     "execution_count": 64,
     "metadata": {},
     "output_type": "execute_result"
    }
   ],
   "source": [
    "#train XGBoost \n",
    "xg = GradientBoostingClassifier(n_estimators=100, learning_rate=1.0,\n",
    "    max_depth=1, random_state=0).fit(X_train, y_train)\n",
    "xg.score(X_test, y_test)"
   ]
  },
  {
   "cell_type": "code",
   "execution_count": 65,
   "id": "21d0e5f3",
   "metadata": {},
   "outputs": [
    {
     "data": {
      "text/plain": [
       "0.7125127431040875"
      ]
     },
     "execution_count": 65,
     "metadata": {},
     "output_type": "execute_result"
    }
   ],
   "source": [
    "model = xg\n",
    "# predict probabilities\n",
    "probs = model.predict_proba(X_test)\n",
    "# keep the predictions for class 1 only\n",
    "probs = probs[:, 1]\n",
    "# calculate log loss\n",
    "loss = log_loss(y_test, probs)\n",
    "loss"
   ]
  },
  {
   "cell_type": "code",
   "execution_count": 66,
   "id": "6bc3c63c",
   "metadata": {},
   "outputs": [
    {
     "data": {
      "image/png": "[encoded data removed]",
      "text/plain": [
       "<Figure size 432x288 with 1 Axes>"
      ]
     },
     "metadata": {
      "needs_background": "light"
     },
     "output_type": "display_data"
    }
   ],
   "source": [
    "y_pred_proba = xg.predict_proba(X_test)[::,1]\n",
    "fpr, tpr, _ = metrics.roc_curve(y_test,  y_pred_proba)\n",
    "auc = metrics.roc_auc_score(y_test, y_pred_proba)\n",
    "plt.plot(fpr,tpr,label=\"data 1, auc=\"+str(auc))\n",
    "plt.legend(loc=4)\n",
    "plt.show()"
   ]
  },
  {
   "cell_type": "code",
   "execution_count": 67,
   "id": "267df58f",
   "metadata": {},
   "outputs": [
    {
     "data": {
      "image/png": "[encoded data removed]",
      "text/plain": [
       "<Figure size 864x504 with 1 Axes>"
      ]
     },
     "metadata": {
      "needs_background": "light"
     },
     "output_type": "display_data"
    }
   ],
   "source": [
    "plt.figure(figsize=(12,7))\n",
    "sns.barplot(x.columns, clf.feature_importances_)\n",
    "plt.show()"
   ]
  },
  {
   "cell_type": "markdown",
   "id": "1cbdbb61",
   "metadata": {},
   "source": [
    "### Kfold"
   ]
  },
  {
   "cell_type": "code",
   "execution_count": 78,
   "id": "152d92f8",
   "metadata": {},
   "outputs": [],
   "source": [
    "#decision tree kfold\n",
    "def dk():\n",
    "    for train_index, test_index in k_fold.split(X):\n",
    "        X_train, X_test = X[train_index], X[test_index]\n",
    "        y_train, y_test = y[train_index], y[test_index]\n",
    "        dtree = DecisionTreeClassifier()\n",
    "        dtree.fit(X_train, y_train)\n",
    "        print(\"score:\",dtree.score(X_test, y_test))\n",
    "\n",
    "#logistic kfold\n",
    "def lk():\n",
    "    for train_index, test_index in k_fold.split(X):\n",
    "        X_train, X_test = X[train_index], X[test_index]\n",
    "        y_train, y_test = y[train_index], y[test_index]\n",
    "        reg = LogisticRegression().fit(X_train, y_train)\n",
    "        score = reg.score(X_test, y_test)\n",
    "        print(\"score:\", score)\n",
    "\n",
    "#XGBoost KFold\n",
    "def xk():\n",
    "    for train_index, test_index in k_fold.split(X):\n",
    "        X_train, X_test = X[train_index], X[test_index]\n",
    "        y_train, y_test = y[train_index], y[test_index]\n",
    "        dtree = DecisionTreeClassifier()\n",
    "        dtree.fit(X_train, y_train)\n",
    "        print(dtree.score(X_test, y_test))\n",
    "        clf = GradientBoostingClassifier(n_estimators=100, learning_rate=1.0,\n",
    "        max_depth=1, random_state=0).fit(X_train, y_train)\n",
    "        clf.score(X_test, y_test)\n"
   ]
  },
  {
   "cell_type": "code",
   "execution_count": 85,
   "id": "4a32f2fe",
   "metadata": {},
   "outputs": [
    {
     "name": "stdout",
     "output_type": "stream",
     "text": [
      "***** decision tree kfold *****\n",
      "____________________________________________\n",
      "score: 0.5381526104417671\n",
      "score: 0.5060240963855421\n",
      "score: 0.5100401606425703\n",
      "score: 0.47580645161290325\n",
      "score: 0.5604838709677419\n",
      "\n",
      "***** logistic kfold *****\n",
      "____________________________________________\n",
      "score: 0.5421686746987951\n",
      "score: 0.5020080321285141\n",
      "score: 0.5421686746987951\n",
      "score: 0.5282258064516129\n",
      "score: 0.5362903225806451\n",
      "\n",
      "***** XGBoost KFold *****\n",
      "____________________________________________\n",
      "0.5301204819277109\n",
      "0.5100401606425703\n",
      "0.5020080321285141\n",
      "0.4879032258064516\n",
      "0.5725806451612904\n"
     ]
    }
   ],
   "source": [
    "print(\"***** decision tree kfold *****\\n____________________________________________\")\n",
    "dk()\n",
    "print(\"\\n***** logistic kfold *****\\n____________________________________________\")\n",
    "lk()\n",
    "print(\"\\n***** XGBoost KFold *****\\n____________________________________________\")\n",
    "xk()"
   ]
  },
  {
   "cell_type": "code",
   "execution_count": null,
   "id": "3fa01a69",
   "metadata": {},
   "outputs": [],
   "source": []
  }
 ],
 "metadata": {
  "kernelspec": {
   "display_name": "Python 3",
   "language": "python",
   "name": "python3"
  },
  "language_info": {
   "codemirror_mode": {
    "name": "ipython",
    "version": 3
   },
   "file_extension": ".py",
   "mimetype": "text/x-python",
   "name": "python",
   "nbconvert_exporter": "python",
   "pygments_lexer": "ipython3",
   "version": "3.8.5"
  }
 },
 "nbformat": 4,
 "nbformat_minor": 5
}
